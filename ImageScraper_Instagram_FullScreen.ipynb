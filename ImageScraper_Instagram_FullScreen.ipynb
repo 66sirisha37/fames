{
 "cells": [
  {
   "cell_type": "markdown",
   "id": "relevant-germany",
   "metadata": {},
   "source": [
    "### Give the input here! "
   ]
  },
  {
   "cell_type": "code",
   "execution_count": 1,
   "id": "criminal-funds",
   "metadata": {},
   "outputs": [],
   "source": [
    "### Instagram Username and Password\n",
    "IG_username = \"Enter username here\" ## -- ENTER USERNAME\n",
    "IG_password = \"Enter password here\" ## -- ENTER PASSWORD\n",
    "\n",
    "chromedriver_path = 'chromedriver.exe' ## -- UPDATE CHROME DRIVER PATH\n",
    "\n",
    "### Give profile name of user as string ###Give Hashtags with '#' before the string\n",
    "\n",
    "profiles_hashtags = [\n",
    "    #Profiles Below\n",
    "    \"instagram\",\n",
    "    \"creators\"\n",
    "    \n",
    "    #Hashtags here\n",
    "    \"#pencil\",\n",
    "    \"#Sketch\"\n",
    "    ]\n",
    "textfile_name = \"instagram_pics\" ## Enter text file name, that saves all image URLs. [Multiple files are created with name format]\n",
    "folder_name = \"IG_Pictures\" ## Folder Name to save all images - Creates a folder if not available."
   ]
  },
  {
   "cell_type": "markdown",
   "id": "disturbed-blake",
   "metadata": {},
   "source": [
    "### Folder with images, and txt files with image URLs get saved in root path of this file"
   ]
  },
  {
   "cell_type": "code",
   "execution_count": 2,
   "id": "hazardous-budget",
   "metadata": {},
   "outputs": [],
   "source": [
    "#imports here\n",
    "from selenium import webdriver\n",
    "from selenium.webdriver.common.keys import Keys\n",
    "from selenium.webdriver.support import expected_conditions as EC\n",
    "from selenium.webdriver.common.by import By\n",
    "from selenium.webdriver.support.wait import WebDriverWait\n",
    "from selenium.webdriver.common.keys import Keys\n",
    "import time\n",
    "import string\n",
    "import random\n",
    "import tqdm.notebook as tq\n",
    "import os\n",
    "import wget\n",
    "import re"
   ]
  },
  {
   "cell_type": "code",
   "execution_count": 3,
   "id": "selected-civilization",
   "metadata": {},
   "outputs": [],
   "source": [
    "driver = webdriver.Chrome(chromedriver_path)\n",
    "driver.maximize_window()\n",
    "driver.get(\"http://www.instagram.com\")\n",
    "\n",
    "username = WebDriverWait(driver, 10).until(EC.element_to_be_clickable((By.CSS_SELECTOR, \"input[name='username']\")))\n",
    "password = WebDriverWait(driver, 10).until(EC.element_to_be_clickable((By.CSS_SELECTOR, \"input[name='password']\")))\n",
    "\n",
    "username.clear()\n",
    "username.send_keys(IG_username)\n",
    "time.sleep(5)\n",
    "password.clear()\n",
    "password.send_keys(IG_password)\n",
    "time.sleep(5)\n",
    "\n",
    "button = WebDriverWait(driver, 2).until(EC.element_to_be_clickable((By.CSS_SELECTOR, \"button[type='submit']\"))).click()\n",
    "\n",
    "#Not now and Cancel buttons\n",
    "not_now = WebDriverWait(driver, 10).until(EC.element_to_be_clickable((By.XPATH, '//button[contains(text(), \"Not Now\")]'))).click()\n",
    "time.sleep(5)\n",
    "not_now2 = WebDriverWait(driver, 10).until(EC.element_to_be_clickable((By.XPATH, '//button[contains(text(), \"Not Now\")]'))).click()"
   ]
  },
  {
   "cell_type": "markdown",
   "id": "cloudy-clone",
   "metadata": {},
   "source": [
    "### Scrapes image URLs from profiles and Hashtags mentioned, to text files"
   ]
  },
  {
   "cell_type": "code",
   "execution_count": 4,
   "id": "animal-visiting",
   "metadata": {},
   "outputs": [
    {
     "name": "stdout",
     "output_type": "stream",
     "text": [
      "https://www.instagram.com/hairbykimtunglut/\n"
     ]
    },
    {
     "data": {
      "application/vnd.jupyter.widget-view+json": {
       "model_id": "427510523df443348de6fa252da3d2c3",
       "version_major": 2,
       "version_minor": 0
      },
      "text/plain": [
       "  0%|          | 0/8 [00:00<?, ?it/s]"
      ]
     },
     "metadata": {},
     "output_type": "display_data"
    },
    {
     "name": "stdout",
     "output_type": "stream",
     "text": [
      "https://www.instagram.com/combkala/\n"
     ]
    },
    {
     "data": {
      "application/vnd.jupyter.widget-view+json": {
       "model_id": "2dce0e52c7a94e8cb6c7151808f07758",
       "version_major": 2,
       "version_minor": 0
      },
      "text/plain": [
       "  0%|          | 0/53 [00:00<?, ?it/s]"
      ]
     },
     "metadata": {},
     "output_type": "display_data"
    },
    {
     "name": "stdout",
     "output_type": "stream",
     "text": [
      "https://www.instagram.com/hairbysasha_2/\n"
     ]
    },
    {
     "data": {
      "application/vnd.jupyter.widget-view+json": {
       "model_id": "89fc5e3bbe694714a76b6d0ceba35dde",
       "version_major": 2,
       "version_minor": 0
      },
      "text/plain": [
       "  0%|          | 0/18 [00:00<?, ?it/s]"
      ]
     },
     "metadata": {},
     "output_type": "display_data"
    },
    {
     "name": "stdout",
     "output_type": "stream",
     "text": [
      "https://www.instagram.com/indiangirls_haircut/\n"
     ]
    },
    {
     "data": {
      "application/vnd.jupyter.widget-view+json": {
       "model_id": "243ece921a36424b853f383785c34480",
       "version_major": 2,
       "version_minor": 0
      },
      "text/plain": [
       "  0%|          | 0/23 [00:00<?, ?it/s]"
      ]
     },
     "metadata": {},
     "output_type": "display_data"
    },
    {
     "name": "stdout",
     "output_type": "stream",
     "text": [
      "https://www.instagram.com/explore/tags/indianhaircut\n"
     ]
    },
    {
     "data": {
      "application/vnd.jupyter.widget-view+json": {
       "model_id": "297be852a64543c28d898926ba09105d",
       "version_major": 2,
       "version_minor": 0
      },
      "text/plain": [
       "  0%|          | 0/337 [00:00<?, ?it/s]"
      ]
     },
     "metadata": {},
     "output_type": "display_data"
    }
   ],
   "source": [
    "images_all = []\n",
    "counts = 1\n",
    "images_count = 0\n",
    "\n",
    "textfile_path = textfile_name + str(counts) + \".txt\"\n",
    "\n",
    "for k in profiles_hashtags:\n",
    "    if('#' in k):\n",
    "        url = \"https://www.instagram.com/explore/tags/\" + k[1:]\n",
    "    else:\n",
    "        url = \"https://www.instagram.com/\" + k + \"/\"\n",
    "    \n",
    "    print(url)\n",
    "    driver.get(url)\n",
    "    time.sleep(5)\n",
    "    \n",
    "    posts = driver.find_element_by_xpath(\"(//span[@class='g47SY '])[1]\")\n",
    "    num_posts = int(float(re.sub('\\D', '', posts.text))/8)\n",
    "    \n",
    "    for i in tq.tqdm(range(num_posts)):\n",
    "        try:\n",
    "            images = driver.find_elements_by_tag_name('img')\n",
    "            for image in images: \n",
    "                images_all.append(image.get_attribute('src'))\n",
    "        except Exception as e1:\n",
    "            e1\n",
    "\n",
    "        try:\n",
    "            body = driver.find_element_by_css_selector('body')\n",
    "            body.send_keys(Keys.PAGE_DOWN)\n",
    "            time.sleep(5)\n",
    "        except Exception as e:\n",
    "            e\n",
    "\n",
    "        if(images_count>=500):\n",
    "            with open(textfile_path, \"a\") as outfile:\n",
    "                outfile.write(\"\\n\".join(images_all))\n",
    "                outfile.close()\n",
    "            images_all = [\" \"]\n",
    "            counts += 1\n",
    "            textfile_path = textfile_name + str(counts) + \".txt\"\n",
    "        elif(i >= num_posts):\n",
    "            with open(textfile_path, \"a\") as outfile:\n",
    "                outfile.write(\"\\n\".join(images_all))\n",
    "                outfile.close()\n",
    "            images_all = [\" \"]\n",
    "            counts += 1\n",
    "            textfile_path = textfile_name + str(counts) + \".txt\"\n",
    "\n",
    "\n",
    "driver.close()\n",
    "driver.quit()"
   ]
  },
  {
   "cell_type": "markdown",
   "id": "mounted-chancellor",
   "metadata": {},
   "source": [
    "### Saves images to folder"
   ]
  },
  {
   "cell_type": "code",
   "execution_count": 6,
   "id": "stone-mixture",
   "metadata": {},
   "outputs": [
    {
     "data": {
      "application/vnd.jupyter.widget-view+json": {
       "model_id": "33a1b3c6c685444195d785e2ce7cd4f1",
       "version_major": 2,
       "version_minor": 0
      },
      "text/plain": [
       "  0%|          | 0/2404 [00:00<?, ?it/s]"
      ]
     },
     "metadata": {},
     "output_type": "display_data"
    },
    {
     "name": "stdout",
     "output_type": "stream",
     "text": [
      "100% [............................................................................] 164936 / 164936 \n",
      "unknown url type: '%20'\n",
      "100% [..............................................................................] 42148 / 42148"
     ]
    }
   ],
   "source": [
    "all_content = []\n",
    "path_folder = os.getcwd()\n",
    "path_folder = os.path.join(path_folder, folder_name)\n",
    "if not os.path.exists(path_folder):\n",
    "    os.mkdir(path_folder)\n",
    "for i in range(1, counts+1):\n",
    "    file_path = textfile_name + str(i) + \".txt\"\n",
    "    if(os.path.exists(file_path)):\n",
    "        my_file = open(file_path, \"r\")\n",
    "        content = my_file.read()\n",
    "        content_list = content.split(\"\\n\")\n",
    "        content_list = list(set(content_list))\n",
    "        all_content.append(content_list)\n",
    "        my_file.close()\n",
    "\n",
    "from itertools import chain\n",
    "flatten_list = list(chain.from_iterable(all_content))\n",
    "flatten_list = list(set(flatten_list))\n",
    "for image in tq.tqdm(flatten_list):\n",
    "    res = ''.join(random.choices(string.ascii_uppercase + string.digits + string.ascii_lowercase, k = 15))\n",
    "    save_as = os.path.join(path_folder, res + '.jpg')\n",
    "    try:\n",
    "        wget.download(image, save_as)\n",
    "        if(os.path.getsize(save_as) < 10000):\n",
    "            os.remove(save_as)\n",
    "    except Exception as e2:\n",
    "        print(image)\n",
    "        print(e2)"
   ]
  },
  {
   "cell_type": "code",
   "execution_count": null,
   "id": "incoming-register",
   "metadata": {},
   "outputs": [],
   "source": []
  }
 ],
 "metadata": {
  "kernelspec": {
   "display_name": "GPUEnv",
   "language": "python",
   "name": "gpuenv"
  },
  "language_info": {
   "codemirror_mode": {
    "name": "ipython",
    "version": 3
   },
   "file_extension": ".py",
   "mimetype": "text/x-python",
   "name": "python",
   "nbconvert_exporter": "python",
   "pygments_lexer": "ipython3",
   "version": "3.6.12"
  }
 },
 "nbformat": 4,
 "nbformat_minor": 5
}